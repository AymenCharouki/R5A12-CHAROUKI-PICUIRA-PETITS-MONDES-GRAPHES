{
 "cells": [
  {
   "cell_type": "markdown",
   "metadata": {},
   "source": [
    "# <a id='toc1_'></a>[Introduction aux réseaux de petits mondes :](#toc0_)"
   ]
  },
  {
   "cell_type": "markdown",
   "metadata": {},
   "source": [
    "## Présentation théorique avec des exemples "
   ]
  },
  {
   "cell_type": "markdown",
   "metadata": {},
   "source": [
    "<img src=\"img/images_large_10.1177_1094428116675032-fig1.jpeg\" alt=\"Image\" width=\"70%\"/>\n",
    "\n",
    "*Source: Figure from the article \"Small World Networks\" by Watts and Strogatz (1998)*\n",
    "\n",
    "p étant la probabilité de connexion aléatoire, c'est-à-dire la probabilité qu'un lien soit établi entre deux nœuds choisis au hasard.\n"
   ]
  },
  {
   "cell_type": "markdown",
   "metadata": {},
   "source": [
    "# <a id='toc2_'></a>[Propriétés mathématiques :](#toc0_)"
   ]
  },
  {
   "cell_type": "markdown",
   "metadata": {},
   "source": [
    "## Explication des propriétés telles que le coefficient de clustering et la longueur moyenne des chemins"
   ]
  },
  {
   "cell_type": "markdown",
   "metadata": {},
   "source": [
    "Le **coefficient de clustering d'un nœud** est donné par la formule :\n",
    "\n",
    "$$\n",
    "C(v) = \\frac{2 \\cdot E(v)}{k_v \\cdot (k_v - 1)}\n",
    "$$\n",
    "\n",
    "Où :\n",
    "- \\( E(v) \\) est le nombre de liens entre les voisins du nœud \\( v \\),\n",
    "- \\( k_v \\) est le degré du nœud \\( v \\), c'est-à-dire le nombre total de voisins.\n",
    "\n",
    "\n",
    "<img src=\"img/220px-Clustering_coefficient_example.png\" alt=\"Graphes exemples\" width=\"10%\"/>\n",
    "\n",
    "*Source: Wikipedia*\n",
    "\n",
    "\n",
    "# Calculs du coefficient de clustering pour chaque graphe\n",
    "\n",
    "## Formule générale\n",
    "\n",
    "Le **coefficient de clustering d'un nœud** est donné par la formule :\n",
    "\n",
    "$$\n",
    "C(v) = \\frac{2 \\cdot E(v)}{k_v \\cdot (k_v - 1)}\n",
    "$$\n",
    "\n",
    "Où :\n",
    "- \\( E(v) \\) est le nombre de liens entre les voisins du nœud \\( v \\),\n",
    "- \\( k_v \\) est le degré du nœud \\( v \\), c'est-à-dire le nombre total de voisins.\n",
    "\n",
    "---\n",
    "\n",
    "# Calculs détaillés\n",
    "\n",
    "## **Premier Graphe : \\( C(v) = 1 \\)**\n",
    "\n",
    "### Étapes\n",
    "1. Le nœud bleu a **3 voisins** (en blanc).  \n",
    "   - \\( k_v = 3 \\).\n",
    "2. Ces voisins forment un triangle complet : tous les voisins sont connectés entre eux.  \n",
    "   - Nombre d'arêtes entre voisins : \\( E(v) = 3 \\).\n",
    "3. Le nombre maximal possible d’arêtes entre \\( k_v \\) voisins est donné par :  \n",
    "   $$\n",
    "   \\text{Nombre maximum} = \\frac{k_v \\cdot (k_v - 1)}{2} = \\frac{3 \\cdot 2}{2} = 3.\n",
    "   $$\n",
    "\n",
    "### Calcul\n",
    "$$\n",
    "C(v) = \\frac{2 \\cdot E(v)}{k_v \\cdot (k_v - 1)} = \\frac{2 \\cdot 3}{3 \\cdot 2} = 1.\n",
    "$$\n",
    "\n",
    "### Résultat\n",
    "Le nœud bleu est **entièrement connecté à ses voisins**, donc \\( C(v) = 1 \\).\n",
    "\n",
    "---\n",
    "\n",
    "## **Deuxième Graphe : \\( C(v) = 1/3 \\)**\n",
    "\n",
    "### Étapes\n",
    "1. Le nœud bleu a toujours **3 voisins**.  \n",
    "   - \\( k_v = 3 \\).\n",
    "2. Seule **1 arête** relie les voisins entre eux.  \n",
    "   - Nombre d'arêtes entre voisins : \\( E(v) = 1 \\).\n",
    "3. Le nombre maximal d’arêtes possibles entre voisins est :  \n",
    "   $$\n",
    "   \\text{Nombre maximum} = \\frac{k_v \\cdot (k_v - 1)}{2} = \\frac{3 \\cdot 2}{2} = 3.\n",
    "   $$\n",
    "\n",
    "### Calcul\n",
    "$$\n",
    "C(v) = \\frac{2 \\cdot E(v)}{k_v \\cdot (k_v - 1)} = \\frac{2 \\cdot 1}{3 \\cdot 2} = \\frac{2}{6} = \\frac{1}{3}.\n",
    "$$\n",
    "\n",
    "### Résultat\n",
    "Ici, seuls quelques voisins du nœud bleu sont connectés, ce qui diminue le coefficient de clustering à \\( C(v) = 1/3 \\).\n",
    "\n",
    "---\n",
    "\n",
    "## **Troisième Graphe : \\( C(v) = 0 \\)**\n",
    "\n",
    "### Étapes\n",
    "1. Le nœud bleu a toujours **3 voisins**.  \n",
    "   - \\( k_v = 3 \\).\n",
    "2. Aucune arête ne relie les voisins entre eux.  \n",
    "   - Nombre d'arêtes entre voisins : \\( E(v) = 0 \\).\n",
    "3. Le nombre maximal d’arêtes possibles reste :  \n",
    "   $$\n",
    "   \\text{Nombre maximum} = \\frac{k_v \\cdot (k_v - 1)}{2} = \\frac{3 \\cdot 2}{2} = 3.\n",
    "   $$\n",
    "\n",
    "### Calcul\n",
    "$$\n",
    "C(v) = \\frac{2 \\cdot E(v)}{k_v \\cdot (k_v - 1)} = \\frac{2 \\cdot 0}{3 \\cdot 2} = 0.\n",
    "$$\n",
    "\n",
    "### Résultat\n",
    "Aucune connexion entre les voisins signifie que le coefficient de clustering est \\( C(v) = 0 \\).\n",
    "\n",
    "---\n",
    "\n",
    "## **Résumé des résultats**\n",
    "1. **Premier Graphe** : \\( C(v) = 1 \\) (tous les voisins sont connectés).  \n",
    "2. **Deuxième Graphe** : \\( C(v) = 1/3 \\) (seulement une connexion entre voisins).  \n",
    "3. **Troisième Graphe** : \\( C(v) = 0 \\) (aucune connexion entre voisins).\n"
   ]
  },
  {
   "cell_type": "markdown",
   "metadata": {},
   "source": [
    "# <a id='toc3_'></a>[Visualisation des graphes :](#toc0_)"
   ]
  },
  {
   "cell_type": "markdown",
   "metadata": {},
   "source": [
    "## Création de réseaux et visualisation interactive"
   ]
  },
  {
   "cell_type": "markdown",
   "metadata": {},
   "source": [
    "# <a id='toc4_'></a>[Simulations interactives :](#toc0_)"
   ]
  },
  {
   "cell_type": "markdown",
   "metadata": {},
   "source": [
    "## Ajout de widgets pour permettre l'ajout de nœuds et la modification des paramètres"
   ]
  },
  {
   "cell_type": "markdown",
   "metadata": {},
   "source": [
    "# <a id='toc5_'></a>[Conclusion et applications :](#toc0_)"
   ]
  },
  {
   "cell_type": "markdown",
   "metadata": {},
   "source": [
    "## Discussion des implications et des exemples concrets (comme les réseaux sociaux)"
   ]
  }
 ],
 "metadata": {
  "language_info": {
   "name": "python"
  }
 },
 "nbformat": 4,
 "nbformat_minor": 2
}
